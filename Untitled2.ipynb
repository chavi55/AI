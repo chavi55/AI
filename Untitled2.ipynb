{
  "nbformat": 4,
  "nbformat_minor": 0,
  "metadata": {
    "colab": {
      "name": "Untitled2.ipynb",
      "provenance": [],
      "authorship_tag": "ABX9TyP11nbaFEyqXuIJQmcaVHix",
      "include_colab_link": true
    },
    "kernelspec": {
      "display_name": "Python 3",
      "name": "python3"
    }
  },
  "cells": [
    {
      "cell_type": "markdown",
      "metadata": {
        "id": "view-in-github",
        "colab_type": "text"
      },
      "source": [
        "<a href=\"https://colab.research.google.com/github/chavi55/AI/blob/main/Untitled2.ipynb\" target=\"_parent\"><img src=\"https://colab.research.google.com/assets/colab-badge.svg\" alt=\"Open In Colab\"/></a>"
      ]
    },
    {
      "cell_type": "code",
      "metadata": {
        "colab": {
          "base_uri": "https://localhost:8080/"
        },
        "id": "fpthouQRahiX",
        "outputId": "c81def1c-1054-4ce8-e0ac-c6962d4511d9"
      },
      "source": [
        "print(\"Hello World\")\n"
      ],
      "execution_count": null,
      "outputs": [
        {
          "output_type": "stream",
          "text": [
            "Hello World\n"
          ],
          "name": "stdout"
        }
      ]
    },
    {
      "cell_type": "code",
      "metadata": {
        "colab": {
          "base_uri": "https://localhost:8080/"
        },
        "id": "c_C-HDyebrOy",
        "outputId": "9cadff29-81f8-4d2f-c8f9-25986c60e704"
      },
      "source": [
        "message = 'hello world'\n",
        "print(message)"
      ],
      "execution_count": null,
      "outputs": [
        {
          "output_type": "stream",
          "text": [
            "hello world\n"
          ],
          "name": "stdout"
        }
      ]
    },
    {
      "cell_type": "code",
      "metadata": {
        "colab": {
          "background_save": true
        },
        "id": "-x1C2jN1cdYA",
        "outputId": "e70fc18e-96c7-4e94-be57-dba9e601f369"
      },
      "source": [
        "help('keywords')"
      ],
      "execution_count": null,
      "outputs": [
        {
          "output_type": "stream",
          "text": [
            "\n",
            "Here is a list of the Python keywords.  Enter any keyword to get more help.\n",
            "\n",
            "False               class               from                or\n",
            "None                continue            global              pass\n",
            "True                def                 if                  raise\n",
            "and                 del                 import              return\n",
            "as                  elif                in                  try\n",
            "assert              else                is                  while\n",
            "async               except              lambda              with\n",
            "await               finally             nonlocal            yield\n",
            "break               for                 not                 \n",
            "\n"
          ],
          "name": "stdout"
        }
      ]
    },
    {
      "cell_type": "code",
      "metadata": {
        "id": "k1Zb20Cpcw7j"
      },
      "source": [
        "my_int = 5\n",
        "my_float = 26.2\n",
        "my_Bool = True\n",
        "my_string = 'characters'\n"
      ],
      "execution_count": null,
      "outputs": []
    },
    {
      "cell_type": "code",
      "metadata": {
        "colab": {
          "base_uri": "https://localhost:8080/"
        },
        "id": "-ptEm7judnHx",
        "outputId": "025a3315-d22e-4b5b-d5be-e30cea7c22d1"
      },
      "source": [
        "my_int = 0xFF\n",
        "print(my_int)\n",
        "print('{:#x}'.format(my_int))"
      ],
      "execution_count": null,
      "outputs": [
        {
          "output_type": "stream",
          "text": [
            "255\n",
            "0xff\n"
          ],
          "name": "stdout"
        }
      ]
    },
    {
      "cell_type": "code",
      "metadata": {
        "colab": {
          "base_uri": "https://localhost:8080/"
        },
        "id": "WZmeB-jOeKg5",
        "outputId": "f91e33d7-5af8-4280-944c-738ddc6bd03c"
      },
      "source": [
        "print('\\u00A5')\n",
        "print('\\u00f3')"
      ],
      "execution_count": null,
      "outputs": [
        {
          "output_type": "stream",
          "text": [
            "¥\n",
            "ó\n"
          ],
          "name": "stdout"
        }
      ]
    },
    {
      "cell_type": "code",
      "metadata": {
        "colab": {
          "base_uri": "https://localhost:8080/"
        },
        "id": "XWubPp20fTvd",
        "outputId": "9618e325-29fd-4258-8258-1bd3668bee5c"
      },
      "source": [
        "print(3+4)\n",
        "print(5-6)\n",
        "print(7*8)\n",
        "print(45/4)\n",
        "print(2**10)\n",
        "print(45//4)\n",
        "print(45%4)"
      ],
      "execution_count": null,
      "outputs": [
        {
          "output_type": "stream",
          "text": [
            "7\n",
            "-1\n",
            "56\n",
            "11.25\n",
            "1024\n",
            "11\n",
            "1\n"
          ],
          "name": "stdout"
        }
      ]
    },
    {
      "cell_type": "code",
      "metadata": {
        "colab": {
          "base_uri": "https://localhost:8080/"
        },
        "id": "hjaA0mN8f9cc",
        "outputId": "c68237b2-dcdb-4674-905a-1c74a992fb8f"
      },
      "source": [
        "s = 'hello'+'world' + '\\n'\n",
        "t = s * 4\n",
        "print(t)"
      ],
      "execution_count": null,
      "outputs": [
        {
          "output_type": "stream",
          "text": [
            "helloworld\n",
            "helloworld\n",
            "helloworld\n",
            "helloworld\n",
            "\n"
          ],
          "name": "stdout"
        }
      ]
    }
  ]
}