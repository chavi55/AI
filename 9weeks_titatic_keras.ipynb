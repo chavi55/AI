{
  "nbformat": 4,
  "nbformat_minor": 0,
  "metadata": {
    "colab": {
      "name": "9weeks-titatic_keras.ipynb",
      "provenance": [],
      "collapsed_sections": [],
      "include_colab_link": true
    },
    "kernelspec": {
      "name": "python3",
      "display_name": "Python 3"
    }
  },
  "cells": [
    {
      "cell_type": "markdown",
      "metadata": {
        "id": "view-in-github",
        "colab_type": "text"
      },
      "source": [
        "<a href=\"https://colab.research.google.com/github/chavi55/AI/blob/main/9weeks_titatic_keras.ipynb\" target=\"_parent\"><img src=\"https://colab.research.google.com/assets/colab-badge.svg\" alt=\"Open In Colab\"/></a>"
      ]
    },
    {
      "cell_type": "code",
      "metadata": {
        "id": "X3dFduE8jJ9O",
        "colab": {
          "base_uri": "https://localhost:8080/"
        },
        "outputId": "4fa2b770-b2f0-479e-ce05-904a32280581"
      },
      "source": [
        "from google.colab import drive\n",
        "drive.mount('/gdrive', force_remount=True)"
      ],
      "execution_count": null,
      "outputs": [
        {
          "output_type": "stream",
          "name": "stdout",
          "text": [
            "Mounted at /gdrive\n"
          ]
        }
      ]
    },
    {
      "cell_type": "code",
      "metadata": {
        "id": "v-pEVCZnj_TQ"
      },
      "source": [
        "import pandas as pd\n",
        "import numpy as np\n",
        "import matplotlib.pyplot as plt\n",
        "\n",
        "from sklearn.model_selection import train_test_split\n",
        "\n",
        "from keras.models import Sequential\n",
        "from keras.layers.core import Dense"
      ],
      "execution_count": null,
      "outputs": []
    },
    {
      "cell_type": "code",
      "metadata": {
        "id": "KwlKjt9iyg4A",
        "colab": {
          "base_uri": "https://localhost:8080/"
        },
        "outputId": "dfe94a06-eabf-45f0-8f31-8b2c87ea19bf"
      },
      "source": [
        "titanic = pd.read_excel('/gdrive/MyDrive/인공지능/titanic.xls')\n",
        "titanic.info()"
      ],
      "execution_count": null,
      "outputs": [
        {
          "output_type": "stream",
          "name": "stdout",
          "text": [
            "<class 'pandas.core.frame.DataFrame'>\n",
            "RangeIndex: 1309 entries, 0 to 1308\n",
            "Data columns (total 11 columns):\n",
            " #   Column    Non-Null Count  Dtype  \n",
            "---  ------    --------------  -----  \n",
            " 0   pclass    1309 non-null   int64  \n",
            " 1   survived  1309 non-null   int64  \n",
            " 2   name      1309 non-null   object \n",
            " 3   sex       1309 non-null   object \n",
            " 4   age       1046 non-null   float64\n",
            " 5   sibsp     1309 non-null   int64  \n",
            " 6   parch     1309 non-null   int64  \n",
            " 7   ticket    1309 non-null   object \n",
            " 8   fare      1308 non-null   float64\n",
            " 9   cabin     295 non-null    object \n",
            " 10  embarked  1307 non-null   object \n",
            "dtypes: float64(2), int64(4), object(5)\n",
            "memory usage: 112.6+ KB\n"
          ]
        }
      ]
    },
    {
      "cell_type": "code",
      "metadata": {
        "id": "SqvSgnEyANq1",
        "colab": {
          "base_uri": "https://localhost:8080/"
        },
        "outputId": "8b3efbd7-bf39-4e45-b8a6-3941155fe8e6"
      },
      "source": [
        "titanic.isna().sum()"
      ],
      "execution_count": null,
      "outputs": [
        {
          "output_type": "execute_result",
          "data": {
            "text/plain": [
              "pclass         0\n",
              "survived       0\n",
              "name           0\n",
              "sex            0\n",
              "age          263\n",
              "sibsp          0\n",
              "parch          0\n",
              "ticket         0\n",
              "fare           1\n",
              "cabin       1014\n",
              "embarked       2\n",
              "dtype: int64"
            ]
          },
          "metadata": {},
          "execution_count": 8
        }
      ]
    },
    {
      "cell_type": "code",
      "metadata": {
        "id": "Nsw0DCutAbhd"
      },
      "source": [
        "#결측치 처리하기\n",
        "# age : 평균값\n",
        "titanic.age.fillna(value=titanic.age.mean(), inplace = True)\n",
        "# fare : 삭제하기\n",
        "titanic = titanic[titanic['fare'].notnull()]"
      ],
      "execution_count": null,
      "outputs": []
    },
    {
      "cell_type": "code",
      "metadata": {
        "colab": {
          "base_uri": "https://localhost:8080/"
        },
        "id": "GU1Z_qrUBv09",
        "outputId": "8e0ac9f3-77e7-4467-abd4-e518dbfa73e7"
      },
      "source": [
        "titanic.info()"
      ],
      "execution_count": null,
      "outputs": [
        {
          "output_type": "stream",
          "name": "stdout",
          "text": [
            "<class 'pandas.core.frame.DataFrame'>\n",
            "Int64Index: 1308 entries, 0 to 1308\n",
            "Data columns (total 11 columns):\n",
            " #   Column    Non-Null Count  Dtype  \n",
            "---  ------    --------------  -----  \n",
            " 0   pclass    1308 non-null   int64  \n",
            " 1   survived  1308 non-null   int64  \n",
            " 2   name      1308 non-null   object \n",
            " 3   sex       1308 non-null   object \n",
            " 4   age       1308 non-null   float64\n",
            " 5   sibsp     1308 non-null   int64  \n",
            " 6   parch     1308 non-null   int64  \n",
            " 7   ticket    1308 non-null   object \n",
            " 8   fare      1308 non-null   float64\n",
            " 9   cabin     295 non-null    object \n",
            " 10  embarked  1306 non-null   object \n",
            "dtypes: float64(2), int64(4), object(5)\n",
            "memory usage: 122.6+ KB\n"
          ]
        }
      ]
    },
    {
      "cell_type": "code",
      "metadata": {
        "colab": {
          "base_uri": "https://localhost:8080/"
        },
        "id": "ulID3NMZBy9U",
        "outputId": "d11faca7-f091-48a0-96c1-4609d1d85864"
      },
      "source": [
        "#sex : 숫자로 변경\n",
        "titanic.sex = titanic.sex.map({'male':0, 'female':1})\n",
        "titanic.sex"
      ],
      "execution_count": null,
      "outputs": [
        {
          "output_type": "execute_result",
          "data": {
            "text/plain": [
              "0       1\n",
              "1       0\n",
              "2       1\n",
              "3       0\n",
              "4       1\n",
              "       ..\n",
              "1304    1\n",
              "1305    1\n",
              "1306    0\n",
              "1307    0\n",
              "1308    0\n",
              "Name: sex, Length: 1308, dtype: int64"
            ]
          },
          "metadata": {},
          "execution_count": 11
        }
      ]
    },
    {
      "cell_type": "code",
      "metadata": {
        "id": "qDRo2rqTCsUF"
      },
      "source": [
        "#정수 데이터를 실수형으로 변경\n",
        "titanic['survived'] = titanic['survived'].astype('float')\n",
        "titanic['pclass'] = titanic['pclass'].astype('float')\n",
        "titanic['sex'] = titanic['sex'].astype('float')\n",
        "titanic['sibsp'] = titanic['sibsp'].astype('float')\n",
        "titanic['parch'] = titanic['parch'].astype('float')"
      ],
      "execution_count": null,
      "outputs": []
    },
    {
      "cell_type": "code",
      "metadata": {
        "colab": {
          "base_uri": "https://localhost:8080/"
        },
        "id": "mGr6d9FzvW2V",
        "outputId": "4bac664a-867a-46ce-eeca-c392f43ecfb6"
      },
      "source": [
        "titanic.info()"
      ],
      "execution_count": null,
      "outputs": [
        {
          "output_type": "stream",
          "name": "stdout",
          "text": [
            "<class 'pandas.core.frame.DataFrame'>\n",
            "Int64Index: 1308 entries, 0 to 1308\n",
            "Data columns (total 11 columns):\n",
            " #   Column    Non-Null Count  Dtype  \n",
            "---  ------    --------------  -----  \n",
            " 0   pclass    1308 non-null   float64\n",
            " 1   survived  1308 non-null   float64\n",
            " 2   name      1308 non-null   object \n",
            " 3   sex       1308 non-null   float64\n",
            " 4   age       1308 non-null   float64\n",
            " 5   sibsp     1308 non-null   float64\n",
            " 6   parch     1308 non-null   float64\n",
            " 7   ticket    1308 non-null   object \n",
            " 8   fare      1308 non-null   float64\n",
            " 9   cabin     295 non-null    object \n",
            " 10  embarked  1306 non-null   object \n",
            "dtypes: float64(7), object(4)\n",
            "memory usage: 122.6+ KB\n"
          ]
        }
      ]
    },
    {
      "cell_type": "code",
      "metadata": {
        "id": "lcs-AUYoDbjz",
        "colab": {
          "base_uri": "https://localhost:8080/"
        },
        "outputId": "5e43ad54-4a28-4d35-ba25-2541d07e7bf4"
      },
      "source": [
        "# 데이터세트 생성\n",
        "x_data = titanic[['pclass', 'sex', 'age', 'sibsp', 'parch', 'fare']]\n",
        "y_data = titanic['survived']\n",
        "\n",
        "x_train, x_test, y_train, y_test = train_test_split(x_data, y_data,\n",
        "                                                    test_size = 0.1, random_state=7)\n",
        "x_train.shape, x_test.shape, y_train.shape, y_train.shape"
      ],
      "execution_count": null,
      "outputs": [
        {
          "output_type": "execute_result",
          "data": {
            "text/plain": [
              "((1177, 6), (131, 6), (1177,), (1177,))"
            ]
          },
          "metadata": {},
          "execution_count": 17
        }
      ]
    },
    {
      "cell_type": "code",
      "metadata": {
        "id": "lMhT_7I2xVN8"
      },
      "source": [
        ""
      ],
      "execution_count": null,
      "outputs": []
    },
    {
      "cell_type": "code",
      "metadata": {
        "colab": {
          "base_uri": "https://localhost:8080/"
        },
        "id": "nhNR87T8xUw8",
        "outputId": "92437124-c21a-40c8-dd71-b55f0f4af83d"
      },
      "source": [
        "#모델 구성하기\n",
        "model = Sequential()\n",
        "model.add(Dense(128, input_shape=(6, ), activation='relu'))\n",
        "model.add(Dense(64, activation='relu'))\n",
        "model.add(Dense(1, activation='sigmoid'))\n",
        "\n",
        "#학습 과정 설정하기\n",
        "model.compile(loss='mse', optimizer='Adam', metrics=['accuracy'])\n",
        "\n",
        "model.summary()"
      ],
      "execution_count": null,
      "outputs": [
        {
          "output_type": "stream",
          "name": "stdout",
          "text": [
            "Model: \"sequential_4\"\n",
            "_________________________________________________________________\n",
            "Layer (type)                 Output Shape              Param #   \n",
            "=================================================================\n",
            "dense_9 (Dense)              (None, 128)               896       \n",
            "_________________________________________________________________\n",
            "dense_10 (Dense)             (None, 64)                8256      \n",
            "_________________________________________________________________\n",
            "dense_11 (Dense)             (None, 1)                 65        \n",
            "=================================================================\n",
            "Total params: 9,217\n",
            "Trainable params: 9,217\n",
            "Non-trainable params: 0\n",
            "_________________________________________________________________\n"
          ]
        }
      ]
    },
    {
      "cell_type": "code",
      "metadata": {
        "colab": {
          "base_uri": "https://localhost:8080/"
        },
        "id": "_uXB5e0fynzV",
        "outputId": "a196ed8f-d6bb-4812-fb90-b29764bcb7e5"
      },
      "source": [
        "h=model.fit(x_train, y_train, validation_split=0.2, epochs=100)"
      ],
      "execution_count": null,
      "outputs": [
        {
          "output_type": "stream",
          "name": "stdout",
          "text": [
            "Epoch 1/100\n",
            "30/30 [==============================] - 1s 7ms/step - loss: 0.4062 - accuracy: 0.5760 - val_loss: 0.3885 - val_accuracy: 0.6102\n",
            "Epoch 2/100\n",
            "30/30 [==============================] - 0s 3ms/step - loss: 0.3699 - accuracy: 0.6238 - val_loss: 0.3281 - val_accuracy: 0.6102\n",
            "Epoch 3/100\n",
            "30/30 [==============================] - 0s 3ms/step - loss: 0.2886 - accuracy: 0.6366 - val_loss: 0.2513 - val_accuracy: 0.6822\n",
            "Epoch 4/100\n",
            "30/30 [==============================] - 0s 3ms/step - loss: 0.2413 - accuracy: 0.6461 - val_loss: 0.2177 - val_accuracy: 0.7034\n",
            "Epoch 5/100\n",
            "30/30 [==============================] - 0s 2ms/step - loss: 0.2128 - accuracy: 0.7131 - val_loss: 0.1805 - val_accuracy: 0.7500\n",
            "Epoch 6/100\n",
            "30/30 [==============================] - 0s 2ms/step - loss: 0.1931 - accuracy: 0.7131 - val_loss: 0.1727 - val_accuracy: 0.7712\n",
            "Epoch 7/100\n",
            "30/30 [==============================] - 0s 2ms/step - loss: 0.1915 - accuracy: 0.7109 - val_loss: 0.1628 - val_accuracy: 0.7627\n",
            "Epoch 8/100\n",
            "30/30 [==============================] - 0s 3ms/step - loss: 0.1791 - accuracy: 0.7450 - val_loss: 0.1540 - val_accuracy: 0.7881\n",
            "Epoch 9/100\n",
            "30/30 [==============================] - 0s 2ms/step - loss: 0.1870 - accuracy: 0.7290 - val_loss: 0.1602 - val_accuracy: 0.7669\n",
            "Epoch 10/100\n",
            "30/30 [==============================] - 0s 3ms/step - loss: 0.1715 - accuracy: 0.7535 - val_loss: 0.1625 - val_accuracy: 0.8008\n",
            "Epoch 11/100\n",
            "30/30 [==============================] - 0s 2ms/step - loss: 0.1719 - accuracy: 0.7566 - val_loss: 0.1925 - val_accuracy: 0.6695\n",
            "Epoch 12/100\n",
            "30/30 [==============================] - 0s 2ms/step - loss: 0.1751 - accuracy: 0.7524 - val_loss: 0.1573 - val_accuracy: 0.7797\n",
            "Epoch 13/100\n",
            "30/30 [==============================] - 0s 2ms/step - loss: 0.1748 - accuracy: 0.7545 - val_loss: 0.1506 - val_accuracy: 0.7881\n",
            "Epoch 14/100\n",
            "30/30 [==============================] - 0s 3ms/step - loss: 0.1708 - accuracy: 0.7481 - val_loss: 0.1362 - val_accuracy: 0.8008\n",
            "Epoch 15/100\n",
            "30/30 [==============================] - 0s 3ms/step - loss: 0.1915 - accuracy: 0.7354 - val_loss: 0.1785 - val_accuracy: 0.7203\n",
            "Epoch 16/100\n",
            "30/30 [==============================] - 0s 2ms/step - loss: 0.1681 - accuracy: 0.7598 - val_loss: 0.1330 - val_accuracy: 0.8178\n",
            "Epoch 17/100\n",
            "30/30 [==============================] - 0s 3ms/step - loss: 0.1629 - accuracy: 0.7726 - val_loss: 0.1540 - val_accuracy: 0.7881\n",
            "Epoch 18/100\n",
            "30/30 [==============================] - 0s 2ms/step - loss: 0.1652 - accuracy: 0.7588 - val_loss: 0.1395 - val_accuracy: 0.7966\n",
            "Epoch 19/100\n",
            "30/30 [==============================] - 0s 2ms/step - loss: 0.1539 - accuracy: 0.7811 - val_loss: 0.1359 - val_accuracy: 0.8093\n",
            "Epoch 20/100\n",
            "30/30 [==============================] - 0s 2ms/step - loss: 0.1583 - accuracy: 0.7662 - val_loss: 0.1576 - val_accuracy: 0.7712\n",
            "Epoch 21/100\n",
            "30/30 [==============================] - 0s 3ms/step - loss: 0.1605 - accuracy: 0.7736 - val_loss: 0.1322 - val_accuracy: 0.7966\n",
            "Epoch 22/100\n",
            "30/30 [==============================] - 0s 3ms/step - loss: 0.1587 - accuracy: 0.7790 - val_loss: 0.1330 - val_accuracy: 0.8263\n",
            "Epoch 23/100\n",
            "30/30 [==============================] - 0s 3ms/step - loss: 0.1580 - accuracy: 0.7790 - val_loss: 0.1359 - val_accuracy: 0.8136\n",
            "Epoch 24/100\n",
            "30/30 [==============================] - 0s 2ms/step - loss: 0.1560 - accuracy: 0.7821 - val_loss: 0.1367 - val_accuracy: 0.8051\n",
            "Epoch 25/100\n",
            "30/30 [==============================] - 0s 2ms/step - loss: 0.1626 - accuracy: 0.7811 - val_loss: 0.1319 - val_accuracy: 0.8305\n",
            "Epoch 26/100\n",
            "30/30 [==============================] - 0s 3ms/step - loss: 0.1580 - accuracy: 0.7779 - val_loss: 0.1417 - val_accuracy: 0.8220\n",
            "Epoch 27/100\n",
            "30/30 [==============================] - 0s 2ms/step - loss: 0.1589 - accuracy: 0.7705 - val_loss: 0.1329 - val_accuracy: 0.8008\n",
            "Epoch 28/100\n",
            "30/30 [==============================] - 0s 2ms/step - loss: 0.1529 - accuracy: 0.7832 - val_loss: 0.1259 - val_accuracy: 0.8347\n",
            "Epoch 29/100\n",
            "30/30 [==============================] - 0s 2ms/step - loss: 0.1540 - accuracy: 0.7843 - val_loss: 0.1293 - val_accuracy: 0.8178\n",
            "Epoch 30/100\n",
            "30/30 [==============================] - 0s 3ms/step - loss: 0.1545 - accuracy: 0.7875 - val_loss: 0.1245 - val_accuracy: 0.8347\n",
            "Epoch 31/100\n",
            "30/30 [==============================] - 0s 2ms/step - loss: 0.1617 - accuracy: 0.7747 - val_loss: 0.1477 - val_accuracy: 0.7881\n",
            "Epoch 32/100\n",
            "30/30 [==============================] - 0s 3ms/step - loss: 0.1652 - accuracy: 0.7747 - val_loss: 0.1340 - val_accuracy: 0.8178\n",
            "Epoch 33/100\n",
            "30/30 [==============================] - 0s 3ms/step - loss: 0.1555 - accuracy: 0.7896 - val_loss: 0.1299 - val_accuracy: 0.8305\n",
            "Epoch 34/100\n",
            "30/30 [==============================] - 0s 3ms/step - loss: 0.1500 - accuracy: 0.7949 - val_loss: 0.1264 - val_accuracy: 0.8136\n",
            "Epoch 35/100\n",
            "30/30 [==============================] - 0s 3ms/step - loss: 0.1551 - accuracy: 0.7811 - val_loss: 0.1318 - val_accuracy: 0.8136\n",
            "Epoch 36/100\n",
            "30/30 [==============================] - 0s 3ms/step - loss: 0.1518 - accuracy: 0.7906 - val_loss: 0.1415 - val_accuracy: 0.8008\n",
            "Epoch 37/100\n",
            "30/30 [==============================] - 0s 3ms/step - loss: 0.1562 - accuracy: 0.7715 - val_loss: 0.1345 - val_accuracy: 0.8093\n",
            "Epoch 38/100\n",
            "30/30 [==============================] - 0s 2ms/step - loss: 0.1721 - accuracy: 0.7620 - val_loss: 0.1392 - val_accuracy: 0.8136\n",
            "Epoch 39/100\n",
            "30/30 [==============================] - 0s 2ms/step - loss: 0.1639 - accuracy: 0.7790 - val_loss: 0.1321 - val_accuracy: 0.8008\n",
            "Epoch 40/100\n",
            "30/30 [==============================] - 0s 2ms/step - loss: 0.1539 - accuracy: 0.7800 - val_loss: 0.1308 - val_accuracy: 0.7966\n",
            "Epoch 41/100\n",
            "30/30 [==============================] - 0s 2ms/step - loss: 0.1500 - accuracy: 0.7906 - val_loss: 0.1279 - val_accuracy: 0.8008\n",
            "Epoch 42/100\n",
            "30/30 [==============================] - 0s 2ms/step - loss: 0.1559 - accuracy: 0.7790 - val_loss: 0.1320 - val_accuracy: 0.8178\n",
            "Epoch 43/100\n",
            "30/30 [==============================] - 0s 3ms/step - loss: 0.1535 - accuracy: 0.7853 - val_loss: 0.1258 - val_accuracy: 0.8347\n",
            "Epoch 44/100\n",
            "30/30 [==============================] - 0s 3ms/step - loss: 0.1461 - accuracy: 0.7981 - val_loss: 0.1353 - val_accuracy: 0.7924\n",
            "Epoch 45/100\n",
            "30/30 [==============================] - 0s 2ms/step - loss: 0.1500 - accuracy: 0.7885 - val_loss: 0.1337 - val_accuracy: 0.8051\n",
            "Epoch 46/100\n",
            "30/30 [==============================] - 0s 2ms/step - loss: 0.1579 - accuracy: 0.7683 - val_loss: 0.1297 - val_accuracy: 0.8263\n",
            "Epoch 47/100\n",
            "30/30 [==============================] - 0s 2ms/step - loss: 0.1624 - accuracy: 0.7726 - val_loss: 0.1236 - val_accuracy: 0.8305\n",
            "Epoch 48/100\n",
            "30/30 [==============================] - 0s 3ms/step - loss: 0.1557 - accuracy: 0.7811 - val_loss: 0.1235 - val_accuracy: 0.8305\n",
            "Epoch 49/100\n",
            "30/30 [==============================] - 0s 3ms/step - loss: 0.1517 - accuracy: 0.7906 - val_loss: 0.1262 - val_accuracy: 0.8136\n",
            "Epoch 50/100\n",
            "30/30 [==============================] - 0s 2ms/step - loss: 0.1479 - accuracy: 0.7981 - val_loss: 0.1253 - val_accuracy: 0.8008\n",
            "Epoch 51/100\n",
            "30/30 [==============================] - 0s 3ms/step - loss: 0.1480 - accuracy: 0.7917 - val_loss: 0.1409 - val_accuracy: 0.7924\n",
            "Epoch 52/100\n",
            "30/30 [==============================] - 0s 2ms/step - loss: 0.1569 - accuracy: 0.7875 - val_loss: 0.1454 - val_accuracy: 0.8008\n",
            "Epoch 53/100\n",
            "30/30 [==============================] - 0s 2ms/step - loss: 0.1584 - accuracy: 0.7779 - val_loss: 0.1239 - val_accuracy: 0.8432\n",
            "Epoch 54/100\n",
            "30/30 [==============================] - 0s 2ms/step - loss: 0.1428 - accuracy: 0.7928 - val_loss: 0.1427 - val_accuracy: 0.7924\n",
            "Epoch 55/100\n",
            "30/30 [==============================] - 0s 2ms/step - loss: 0.1608 - accuracy: 0.7705 - val_loss: 0.1353 - val_accuracy: 0.8136\n",
            "Epoch 56/100\n",
            "30/30 [==============================] - 0s 2ms/step - loss: 0.1449 - accuracy: 0.8013 - val_loss: 0.1280 - val_accuracy: 0.8136\n",
            "Epoch 57/100\n",
            "30/30 [==============================] - 0s 2ms/step - loss: 0.1441 - accuracy: 0.7917 - val_loss: 0.1316 - val_accuracy: 0.8093\n",
            "Epoch 58/100\n",
            "30/30 [==============================] - 0s 2ms/step - loss: 0.1508 - accuracy: 0.7864 - val_loss: 0.1376 - val_accuracy: 0.8051\n",
            "Epoch 59/100\n",
            "30/30 [==============================] - 0s 2ms/step - loss: 0.1536 - accuracy: 0.7821 - val_loss: 0.1429 - val_accuracy: 0.7924\n",
            "Epoch 60/100\n",
            "30/30 [==============================] - 0s 2ms/step - loss: 0.1543 - accuracy: 0.7790 - val_loss: 0.1365 - val_accuracy: 0.7924\n",
            "Epoch 61/100\n",
            "30/30 [==============================] - 0s 2ms/step - loss: 0.1526 - accuracy: 0.7875 - val_loss: 0.1229 - val_accuracy: 0.8390\n",
            "Epoch 62/100\n",
            "30/30 [==============================] - 0s 3ms/step - loss: 0.1472 - accuracy: 0.7938 - val_loss: 0.1366 - val_accuracy: 0.8263\n",
            "Epoch 63/100\n",
            "30/30 [==============================] - 0s 2ms/step - loss: 0.1549 - accuracy: 0.7821 - val_loss: 0.1271 - val_accuracy: 0.8093\n",
            "Epoch 64/100\n",
            "30/30 [==============================] - 0s 2ms/step - loss: 0.1473 - accuracy: 0.8002 - val_loss: 0.1230 - val_accuracy: 0.8263\n",
            "Epoch 65/100\n",
            "30/30 [==============================] - 0s 3ms/step - loss: 0.1448 - accuracy: 0.7991 - val_loss: 0.1250 - val_accuracy: 0.8347\n",
            "Epoch 66/100\n",
            "30/30 [==============================] - 0s 2ms/step - loss: 0.1457 - accuracy: 0.7875 - val_loss: 0.1315 - val_accuracy: 0.8178\n",
            "Epoch 67/100\n",
            "30/30 [==============================] - 0s 3ms/step - loss: 0.1525 - accuracy: 0.7970 - val_loss: 0.1279 - val_accuracy: 0.8220\n",
            "Epoch 68/100\n",
            "30/30 [==============================] - 0s 2ms/step - loss: 0.1422 - accuracy: 0.7970 - val_loss: 0.1225 - val_accuracy: 0.8220\n",
            "Epoch 69/100\n",
            "30/30 [==============================] - 0s 2ms/step - loss: 0.1442 - accuracy: 0.7938 - val_loss: 0.1248 - val_accuracy: 0.8220\n",
            "Epoch 70/100\n",
            "30/30 [==============================] - 0s 3ms/step - loss: 0.1412 - accuracy: 0.7991 - val_loss: 0.1274 - val_accuracy: 0.8220\n",
            "Epoch 71/100\n",
            "30/30 [==============================] - 0s 2ms/step - loss: 0.1430 - accuracy: 0.7917 - val_loss: 0.1280 - val_accuracy: 0.8305\n",
            "Epoch 72/100\n",
            "30/30 [==============================] - 0s 2ms/step - loss: 0.1455 - accuracy: 0.7917 - val_loss: 0.1334 - val_accuracy: 0.7881\n",
            "Epoch 73/100\n",
            "30/30 [==============================] - 0s 2ms/step - loss: 0.1480 - accuracy: 0.7875 - val_loss: 0.1442 - val_accuracy: 0.7924\n",
            "Epoch 74/100\n",
            "30/30 [==============================] - 0s 2ms/step - loss: 0.1414 - accuracy: 0.8066 - val_loss: 0.1209 - val_accuracy: 0.8178\n",
            "Epoch 75/100\n",
            "30/30 [==============================] - 0s 3ms/step - loss: 0.1427 - accuracy: 0.8013 - val_loss: 0.1296 - val_accuracy: 0.8178\n",
            "Epoch 76/100\n",
            "30/30 [==============================] - 0s 2ms/step - loss: 0.1462 - accuracy: 0.7917 - val_loss: 0.1539 - val_accuracy: 0.7881\n",
            "Epoch 77/100\n",
            "30/30 [==============================] - 0s 2ms/step - loss: 0.1507 - accuracy: 0.7885 - val_loss: 0.1310 - val_accuracy: 0.8178\n",
            "Epoch 78/100\n",
            "30/30 [==============================] - 0s 3ms/step - loss: 0.1466 - accuracy: 0.7949 - val_loss: 0.1285 - val_accuracy: 0.8220\n",
            "Epoch 79/100\n",
            "30/30 [==============================] - 0s 2ms/step - loss: 0.1415 - accuracy: 0.7991 - val_loss: 0.1264 - val_accuracy: 0.8093\n",
            "Epoch 80/100\n",
            "30/30 [==============================] - 0s 2ms/step - loss: 0.1394 - accuracy: 0.7970 - val_loss: 0.1232 - val_accuracy: 0.8136\n",
            "Epoch 81/100\n",
            "30/30 [==============================] - 0s 3ms/step - loss: 0.1492 - accuracy: 0.7906 - val_loss: 0.1351 - val_accuracy: 0.8008\n",
            "Epoch 82/100\n",
            "30/30 [==============================] - 0s 2ms/step - loss: 0.1523 - accuracy: 0.7938 - val_loss: 0.1232 - val_accuracy: 0.8390\n",
            "Epoch 83/100\n",
            "30/30 [==============================] - 0s 3ms/step - loss: 0.1448 - accuracy: 0.7938 - val_loss: 0.1258 - val_accuracy: 0.8347\n",
            "Epoch 84/100\n",
            "30/30 [==============================] - 0s 2ms/step - loss: 0.1480 - accuracy: 0.7960 - val_loss: 0.1275 - val_accuracy: 0.8347\n",
            "Epoch 85/100\n",
            "30/30 [==============================] - 0s 3ms/step - loss: 0.1493 - accuracy: 0.7906 - val_loss: 0.1267 - val_accuracy: 0.7924\n",
            "Epoch 86/100\n",
            "30/30 [==============================] - 0s 3ms/step - loss: 0.1448 - accuracy: 0.8023 - val_loss: 0.1223 - val_accuracy: 0.8390\n",
            "Epoch 87/100\n",
            "30/30 [==============================] - 0s 3ms/step - loss: 0.1395 - accuracy: 0.8066 - val_loss: 0.1287 - val_accuracy: 0.8136\n",
            "Epoch 88/100\n",
            "30/30 [==============================] - 0s 3ms/step - loss: 0.1490 - accuracy: 0.7885 - val_loss: 0.1274 - val_accuracy: 0.8178\n",
            "Epoch 89/100\n",
            "30/30 [==============================] - 0s 3ms/step - loss: 0.1424 - accuracy: 0.7949 - val_loss: 0.1273 - val_accuracy: 0.8390\n",
            "Epoch 90/100\n",
            "30/30 [==============================] - 0s 2ms/step - loss: 0.1465 - accuracy: 0.7928 - val_loss: 0.1268 - val_accuracy: 0.8136\n",
            "Epoch 91/100\n",
            "30/30 [==============================] - 0s 3ms/step - loss: 0.1475 - accuracy: 0.7853 - val_loss: 0.1329 - val_accuracy: 0.8008\n",
            "Epoch 92/100\n",
            "30/30 [==============================] - 0s 3ms/step - loss: 0.1522 - accuracy: 0.7917 - val_loss: 0.1321 - val_accuracy: 0.8263\n",
            "Epoch 93/100\n",
            "30/30 [==============================] - 0s 3ms/step - loss: 0.1416 - accuracy: 0.8023 - val_loss: 0.1296 - val_accuracy: 0.8093\n",
            "Epoch 94/100\n",
            "30/30 [==============================] - 0s 2ms/step - loss: 0.1424 - accuracy: 0.7960 - val_loss: 0.1243 - val_accuracy: 0.8051\n",
            "Epoch 95/100\n",
            "30/30 [==============================] - 0s 3ms/step - loss: 0.1501 - accuracy: 0.7736 - val_loss: 0.1456 - val_accuracy: 0.8008\n",
            "Epoch 96/100\n",
            "30/30 [==============================] - 0s 2ms/step - loss: 0.1554 - accuracy: 0.7896 - val_loss: 0.1296 - val_accuracy: 0.8093\n",
            "Epoch 97/100\n",
            "30/30 [==============================] - 0s 2ms/step - loss: 0.1418 - accuracy: 0.8055 - val_loss: 0.1221 - val_accuracy: 0.8220\n",
            "Epoch 98/100\n",
            "30/30 [==============================] - 0s 2ms/step - loss: 0.1389 - accuracy: 0.8034 - val_loss: 0.1299 - val_accuracy: 0.8093\n",
            "Epoch 99/100\n",
            "30/30 [==============================] - 0s 3ms/step - loss: 0.1431 - accuracy: 0.7843 - val_loss: 0.1233 - val_accuracy: 0.8136\n",
            "Epoch 100/100\n",
            "30/30 [==============================] - 0s 2ms/step - loss: 0.1370 - accuracy: 0.8087 - val_loss: 0.1227 - val_accuracy: 0.8390\n"
          ]
        }
      ]
    },
    {
      "cell_type": "code",
      "metadata": {
        "colab": {
          "base_uri": "https://localhost:8080/",
          "height": 483
        },
        "id": "liMOuJgvy-Ed",
        "outputId": "8df1fe13-1eea-4d40-a9de-bb12eededc8b"
      },
      "source": [
        "# 그래프\n",
        "plt.figure(figsize=(12, 8))\n",
        "plt.plot(h.history['loss'])\n",
        "plt.plot(h.history['val_loss'])\n",
        "plt.plot(h.history['accuracy'])\n",
        "plt.plot(h.history['val_accuracy'])\n",
        "plt.legend(['loss', 'val_loss', 'accuracy', 'val_accuracy'])\n",
        "plt.show()"
      ],
      "execution_count": null,
      "outputs": [
        {
          "output_type": "display_data",
          "data": {
            "image/png": "[encoded data removed]",
            "text/plain": [
              "<Figure size 864x576 with 1 Axes>"
            ]
          },
          "metadata": {
            "needs_background": "light"
          }
        }
      ]
    },
    {
      "cell_type": "code",
      "metadata": {
        "colab": {
          "base_uri": "https://localhost:8080/"
        },
        "id": "eWCRHwp5zAiz",
        "outputId": "81c5b91a-6436-49cd-d6c8-3c1e22f47d04"
      },
      "source": [
        "#모델 평가하기\n",
        "loss, accuracy = model.evaluate(x_test, y_test)\n",
        "print('Loss={:.2f}'.format(loss))\n",
        "print('Accuracy={:.2f}'.format(accuracy))"
      ],
      "execution_count": null,
      "outputs": [
        {
          "output_type": "stream",
          "name": "stdout",
          "text": [
            "5/5 [==============================] - 0s 2ms/step - loss: 0.1415 - accuracy: 0.8244\n",
            "Loss=0.14\n",
            "Accuracy=0.82\n"
          ]
        }
      ]
    },
    {
      "cell_type": "code",
      "metadata": {
        "colab": {
          "base_uri": "https://localhost:8080/"
        },
        "id": "20Yky3xjy_kZ",
        "outputId": "e50346f5-4d6c-48c9-e9ab-876000c00f12"
      },
      "source": [
        "w = np.array([1., 1., 17., 1., 2., 100.]).reshape(1, 6)\n",
        "model.predict(w)"
      ],
      "execution_count": null,
      "outputs": [
        {
          "output_type": "execute_result",
          "data": {
            "text/plain": [
              "array([[0.9856576]], dtype=float32)"
            ]
          },
          "metadata": {},
          "execution_count": 28
        }
      ]
    },
    {
      "cell_type": "markdown",
      "metadata": {
        "id": "Gjastmg_vWIp"
      },
      "source": [
        ""
      ]
    }
  ]
}